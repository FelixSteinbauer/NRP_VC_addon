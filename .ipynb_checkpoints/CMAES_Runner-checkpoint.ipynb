{
 "cells": [
  {
   "cell_type": "markdown",
   "id": "c1ffa65f",
   "metadata": {},
   "source": [
    "# CMA-ES on Mouse Experiment\n",
    "This notebook executes the mouse experiment in paralel with multiple iterations to performa a CMA-ES parameter search.\n",
    "\n",
    "*Note:* You will probably never need (and witness) a complete run of the CMA-ES algorythm in this notebook as it would take very very long while not adding mayjor accuracy benifits. Generally 200 to 500 iterations are sufficient (depending on your accuracy criteria)."
   ]
  },
  {
   "cell_type": "code",
   "execution_count": 1,
   "id": "bc1cc75b-d56c-4a50-b206-ed8592f27c73",
   "metadata": {},
   "outputs": [
    {
     "name": "stdout",
     "output_type": "stream",
     "text": [
      "Defaulting to user installation because normal site-packages is not writeable\n",
      "Requirement already satisfied: cma in /home/eva/.local/lib/python3.10/site-packages (3.2.2)\n",
      "Requirement already satisfied: numpy in /usr/lib/python3/dist-packages (from cma) (1.21.5)\n",
      "Note: you may need to restart the kernel to use updated packages.\n"
     ]
    }
   ],
   "source": [
    "%pip install cma\n",
    "from password import *\n",
    "\n",
    "online = False\n",
    "maxInstances = 1\n",
    "\n",
    "# Online Parallel currently not wroking because of 477 error (CSV) at 15 min\n",
    "# Online Sequential currently not working because PID controller: service [/robobrain_mouse_with_joystick/set_pid_parameters] responded with an error: b''"
   ]
  },
  {
   "cell_type": "markdown",
   "id": "b1d845b4-89ae-4e35-b33d-e300890db062",
   "metadata": {},
   "source": [
    "### Define (example) Experiment"
   ]
  },
  {
   "cell_type": "code",
   "execution_count": 2,
   "id": "8dbf874c-0e3b-4be9-b9c9-e46b31bd29d2",
   "metadata": {},
   "outputs": [
    {
     "name": "stdout",
     "output_type": "stream",
     "text": [
      "Working in folder: output/Mouse_Experiment_CMAES_circle_0.5_2022-12-14_14:27:22/\n"
     ]
    },
    {
     "ename": "FileNotFoundError",
     "evalue": "[Errno 2] No such file or directory: 'data/CMA/cmaes_mixed_0.5.pkl'",
     "output_type": "error",
     "traceback": [
      "\u001b[0;31m---------------------------------------------------------------------------\u001b[0m",
      "\u001b[0;31mFileNotFoundError\u001b[0m                         Traceback (most recent call last)",
      "\u001b[0;32m<ipython-input-2-01ee327d2e03>\u001b[0m in \u001b[0;36m<module>\u001b[0;34m\u001b[0m\n\u001b[1;32m      5\u001b[0m \u001b[0mscenarioName\u001b[0m \u001b[0;34m=\u001b[0m \u001b[0;34m\"circle\"\u001b[0m\u001b[0;34m\u001b[0m\u001b[0;34m\u001b[0m\u001b[0m\n\u001b[1;32m      6\u001b[0m \u001b[0;34m\u001b[0m\u001b[0m\n\u001b[0;32m----> 7\u001b[0;31m exp = Mouse_Experiment_CMAES(\n\u001b[0m\u001b[1;32m      8\u001b[0m     \u001b[0;31m#exp_id=\"nrpexperiment_robobrain_mouse_v4_0_1\" if online else \"nrpexperiment_robobrain_mouse_v4_0\",\u001b[0m\u001b[0;34m\u001b[0m\u001b[0;34m\u001b[0m\u001b[0m\n\u001b[1;32m      9\u001b[0m     \u001b[0;31m#exp_id=\"nrpexperiment_robobrain_mouse_v5_single_0\",\u001b[0m\u001b[0;34m\u001b[0m\u001b[0;34m\u001b[0m\u001b[0m\n",
      "\u001b[0;32m~/Schreibtisch/TUM/Master/4.Semester/thesis/NRP_VC_addon/package/src/NRP_VC_addon/experiments/Mouse_Experiment/Mouse_Experiment_CMAES.py\u001b[0m in \u001b[0;36m__init__\u001b[0;34m(self, exp_id, dataDirectory, workingFolderDirectory, templateFolder, muscleGTdir, brainFileName, CMAES_mixed_input, CMAES_input, stepSize, scenarioName, frequency, bibiMode, experimentName, muscleValuesGTsource, folderPrefix, folderInfix, folderSuffix, pid_init_duration, pid_movement_duration, CMAES_mixed_duration, CMAES_duration, NESTthreads)\u001b[0m\n\u001b[1;32m     72\u001b[0m \u001b[0;34m\u001b[0m\u001b[0m\n\u001b[1;32m     73\u001b[0m         \u001b[0;31m# Generate data for all phases\u001b[0m\u001b[0;34m\u001b[0m\u001b[0;34m\u001b[0m\u001b[0m\n\u001b[0;32m---> 74\u001b[0;31m         self.setPhases(\n\u001b[0m\u001b[1;32m     75\u001b[0m             \u001b[0mpid_init_duration\u001b[0m\u001b[0;34m=\u001b[0m\u001b[0mpid_init_duration\u001b[0m\u001b[0;34m,\u001b[0m  \u001b[0;31m# seconds\u001b[0m\u001b[0;34m\u001b[0m\u001b[0;34m\u001b[0m\u001b[0m\n\u001b[1;32m     76\u001b[0m             \u001b[0mpid_movement_duration\u001b[0m\u001b[0;34m=\u001b[0m\u001b[0mpid_movement_duration\u001b[0m\u001b[0;34m,\u001b[0m  \u001b[0;31m# Periods\u001b[0m\u001b[0;34m\u001b[0m\u001b[0;34m\u001b[0m\u001b[0m\n",
      "\u001b[0;32m~/Schreibtisch/TUM/Master/4.Semester/thesis/NRP_VC_addon/package/src/NRP_VC_addon/experiments/Mouse_Experiment/Mouse_Experiment_CMAES.py\u001b[0m in \u001b[0;36msetPhases\u001b[0;34m(self, pid_init_duration, pid_movement_duration, CMAES_mixed_duration, CMAES_duration)\u001b[0m\n\u001b[1;32m    132\u001b[0m         \u001b[0;31m# get PID, muslce, contribution etc. values for the total runtime\u001b[0m\u001b[0;34m\u001b[0m\u001b[0;34m\u001b[0m\u001b[0m\n\u001b[1;32m    133\u001b[0m         \u001b[0mself\u001b[0m\u001b[0;34m.\u001b[0m\u001b[0mPIDvalues\u001b[0m \u001b[0;34m=\u001b[0m \u001b[0mself\u001b[0m\u001b[0;34m.\u001b[0m\u001b[0m__generatePIDvalues\u001b[0m\u001b[0;34m(\u001b[0m\u001b[0;34m)\u001b[0m\u001b[0;34m\u001b[0m\u001b[0;34m\u001b[0m\u001b[0m\n\u001b[0;32m--> 134\u001b[0;31m         \u001b[0mself\u001b[0m\u001b[0;34m.\u001b[0m\u001b[0mMuscleValues\u001b[0m \u001b[0;34m=\u001b[0m \u001b[0mself\u001b[0m\u001b[0;34m.\u001b[0m\u001b[0m__generateMuscleValues\u001b[0m\u001b[0;34m(\u001b[0m\u001b[0;34m)\u001b[0m\u001b[0;34m\u001b[0m\u001b[0;34m\u001b[0m\u001b[0m\n\u001b[0m\u001b[1;32m    135\u001b[0m         \u001b[0mself\u001b[0m\u001b[0;34m.\u001b[0m\u001b[0mFORCEcontributionValues\u001b[0m \u001b[0;34m=\u001b[0m \u001b[0mself\u001b[0m\u001b[0;34m.\u001b[0m\u001b[0m__generateFORCEContributionValues\u001b[0m\u001b[0;34m(\u001b[0m\u001b[0;34m)\u001b[0m\u001b[0;34m\u001b[0m\u001b[0;34m\u001b[0m\u001b[0m\n\u001b[1;32m    136\u001b[0m         \u001b[0mself\u001b[0m\u001b[0;34m.\u001b[0m\u001b[0mPIDcontributionValues\u001b[0m \u001b[0;34m=\u001b[0m \u001b[0mself\u001b[0m\u001b[0;34m.\u001b[0m\u001b[0m__generatePIDContributionValues\u001b[0m\u001b[0;34m(\u001b[0m\u001b[0;34m)\u001b[0m\u001b[0;34m\u001b[0m\u001b[0;34m\u001b[0m\u001b[0m\n",
      "\u001b[0;32m~/Schreibtisch/TUM/Master/4.Semester/thesis/NRP_VC_addon/package/src/NRP_VC_addon/experiments/Mouse_Experiment/Mouse_Experiment_CMAES.py\u001b[0m in \u001b[0;36m__generateMuscleValues\u001b[0;34m(self)\u001b[0m\n\u001b[1;32m    202\u001b[0m             \u001b[0;32melif\u001b[0m \u001b[0;34m(\u001b[0m\u001b[0mphase\u001b[0m\u001b[0;34m[\u001b[0m\u001b[0;34m\"name\"\u001b[0m\u001b[0;34m]\u001b[0m \u001b[0;34m==\u001b[0m \u001b[0;34m\"CMAES mixed\"\u001b[0m\u001b[0;34m)\u001b[0m\u001b[0;34m:\u001b[0m  \u001b[0;31m# -> CMAES mixed with PID controller\u001b[0m\u001b[0;34m\u001b[0m\u001b[0;34m\u001b[0m\u001b[0m\n\u001b[1;32m    203\u001b[0m                 \u001b[0;32mif\u001b[0m\u001b[0;34m(\u001b[0m\u001b[0mself\u001b[0m\u001b[0;34m.\u001b[0m\u001b[0mCMAES_mixed_input\u001b[0m \u001b[0;32mis\u001b[0m \u001b[0;32mNone\u001b[0m\u001b[0;34m)\u001b[0m\u001b[0;34m:\u001b[0m\u001b[0;34m\u001b[0m\u001b[0;34m\u001b[0m\u001b[0m\n\u001b[0;32m--> 204\u001b[0;31m                     values.extend(self.getMuscleGT(phase, self.scenarioName, f,X,Y, \n\u001b[0m\u001b[1;32m    205\u001b[0m                     t_start=phase[\"t_start\"], t_end=phase[\"t_start\"]+phase[\"duration\"]))\n\u001b[1;32m    206\u001b[0m                 \u001b[0;32melse\u001b[0m\u001b[0;34m:\u001b[0m\u001b[0;34m\u001b[0m\u001b[0;34m\u001b[0m\u001b[0m\n",
      "\u001b[0;32m~/Schreibtisch/TUM/Master/4.Semester/thesis/NRP_VC_addon/package/src/NRP_VC_addon/experiments/Mouse_Experiment/Mouse_Experiment.py\u001b[0m in \u001b[0;36mgetMuscleGT\u001b[0;34m(self, phase, scenarioName, f, X, Y, t_start, t_end, periods)\u001b[0m\n\u001b[1;32m    569\u001b[0m             \u001b[0;31m#print(f'Loading {dataPath}')\u001b[0m\u001b[0;34m\u001b[0m\u001b[0;34m\u001b[0m\u001b[0m\n\u001b[1;32m    570\u001b[0m \u001b[0;34m\u001b[0m\u001b[0m\n\u001b[0;32m--> 571\u001b[0;31m             \u001b[0;32mwith\u001b[0m \u001b[0mopen\u001b[0m\u001b[0;34m(\u001b[0m\u001b[0mdataPath\u001b[0m\u001b[0;34m,\u001b[0m \u001b[0;34m'rb'\u001b[0m\u001b[0;34m)\u001b[0m \u001b[0;32mas\u001b[0m \u001b[0mf\u001b[0m\u001b[0;34m:\u001b[0m\u001b[0;34m\u001b[0m\u001b[0;34m\u001b[0m\u001b[0m\n\u001b[0m\u001b[1;32m    572\u001b[0m                 \u001b[0mcmaes\u001b[0m \u001b[0;34m=\u001b[0m \u001b[0mpickle\u001b[0m\u001b[0;34m.\u001b[0m\u001b[0mload\u001b[0m\u001b[0;34m(\u001b[0m\u001b[0mf\u001b[0m\u001b[0;34m)\u001b[0m\u001b[0;34m\u001b[0m\u001b[0;34m\u001b[0m\u001b[0m\n\u001b[1;32m    573\u001b[0m \u001b[0;34m\u001b[0m\u001b[0m\n",
      "\u001b[0;31mFileNotFoundError\u001b[0m: [Errno 2] No such file or directory: 'data/CMA/cmaes_mixed_0.5.pkl'"
     ]
    }
   ],
   "source": [
    "#Mouse experiment (you might want to ook at the Mouse_Experiment_CMAES to test this experiment class )\n",
    "from package.src.NRP_VC_addon.experiments.Mouse_Experiment.Mouse_Experiment_CMAES import Mouse_Experiment_CMAES\n",
    "\n",
    "frequency = 0.5\n",
    "scenarioName = \"circle\"\n",
    "\n",
    "exp = Mouse_Experiment_CMAES(\n",
    "    #exp_id=\"nrpexperiment_robobrain_mouse_v4_0_1\" if online else \"nrpexperiment_robobrain_mouse_v4_0\",\n",
    "    #exp_id=\"nrpexperiment_robobrain_mouse_v5_single_0\",\n",
    "    #exp_id=\"nrpexperiment_robobrain_mouse_v5_single_0\", #online (NRP and viktor)\n",
    "    #exp_id=\"nrpexperiment_robobrain_mouse_v5_single_0_0\", #(local and bene)\n",
    "    #exp_id=\"nrpexperiment_robobrain_mouse_v5_0\", #(local and bene),\n",
    "    exp_id=\"nrpexperiment_robobrain_mouse_v5_0_0\", #(local and bene)\n",
    "    dataDirectory=\"data/\",\n",
    "    workingFolderDirectory=\"output/\",\n",
    "    templateFolder=\"data/Mouse_Experiment/templates/\",\n",
    "    scenarioName=scenarioName,\n",
    "    frequency=frequency,\n",
    "    brainFileName=None,#\"hidden_projectionsx40.txt\",\n",
    "    muscleGTdir=\"data/\", #for CMA\n",
    "    #muscleGTdir=\"data_old/\", #for FFT\n",
    "    bibiMode=\"<mode>SynchronousDirectNestSimulation</mode>\", #standard (docker, default online NRP)\n",
    "    #bibiMode=\"<mode>SynchronousNestClientSimulation<mode>\",#cluster mode\n",
    "    muscleValuesGTsource = \"CMA\",\n",
    "    CMAES_mixed_input=None, #These will be overritten afterwards\n",
    "    CMAES_input=None, #These have no effect as CMAES dureation is 0\n",
    "    folderInfix=f\"_{scenarioName}_{frequency}_\",\n",
    "    #Phases\n",
    "    pid_init_duration=2,  # seconds\n",
    "    pid_movement_duration=1,  # Periods\n",
    "    CMAES_mixed_duration=0.5,  # Periods\n",
    "    CMAES_duration=1  # Periods\n",
    ")   \n"
   ]
  },
  {
   "cell_type": "code",
   "execution_count": 3,
   "id": "af8bd9ea",
   "metadata": {},
   "outputs": [],
   "source": [
    "#exp.TFcontents[\"joint_controller\"][\"replacements\"][0][1].split(\"\\n\")"
   ]
  },
  {
   "cell_type": "code",
   "execution_count": 4,
   "id": "498a4279-6a7c-4e69-a066-b6aace6129c4",
   "metadata": {},
   "outputs": [
    {
     "name": "stderr",
     "output_type": "stream",
     "text": [
      "INFO: [2022-12-02 19:27:19,852 - Configuration] Loading configuration file config.json\n",
      "INFO: [2022-12-02 19:27:19,853 - VirtualCoach] Logging into OIDC as: ge69yed\n"
     ]
    },
    {
     "name": "stdout",
     "output_type": "stream",
     "text": [
      "Regenerate VC instance (age: 0.00s = 0.00min )\n"
     ]
    },
    {
     "name": "stderr",
     "output_type": "stream",
     "text": [
      "INFO: [2022-12-02 19:27:20,647 - VirtualCoach] Ready.\n"
     ]
    }
   ],
   "source": [
    "from package.src.NRP_VC_addon.NRP_Simulator import NRP_Simulator_Local, NRP_Simulator_Online, NRP_Simulator_Paralell\n",
    "\n",
    "### PARALLEL ###\n",
    "if(online):\n",
    "    #Official NRP cluster\n",
    "    #simulator = NRP_Simulator_Paralell(OCID_username=OCID_username, OCID_password=OCID_password ) if online else NRP_Simulator_Local()\n",
    "    \n",
    "    #Viktor server cluster\n",
    "    #simulator = NRP_Simulator_Paralell(OCID_username=OCID_username, OCID_password=OCID_password,VC_address=\"http://148.187.150.190\", VC_TTL=60*60 )\n",
    "    \n",
    "    #Benedikt HPC\n",
    "    simulator = NRP_Simulator_Paralell(OCID_username=OCID_username, OCID_password=OCID_password,\n",
    "                #VC_address=\"http://148.187.148.14\", #bene HPC\n",
    "                #VC_address=\"http://148.187.150.190\", #viktor\n",
    "                VC_address=\"http://148.187.150.47\", #nologon        \n",
    "                VC_TTL=0*60*60 )\n",
    "\n",
    "    #Local NRP (that does not work with the paralell calss)\n",
    "    #simulator = NRP_Simulator_Paralell(OCID_username=\"nrpuser\", OCID_password=\"password\",VC_address=\"http://172.19.0.1:9000\", VC_TTL=60*60 )\n",
    "\n",
    "    \n",
    "else:\n",
    "    simulator = NRP_Simulator_Local()\n",
    "### SINGLE ###\n",
    "# Official NRP cluster - Single\n",
    "#simulator = NRP_Simulator_Online(OCID_username=OCID_username, OCID_password=OCID_password, sleeptime = 5 ) if online else NRP_Simulator_Local() "
   ]
  },
  {
   "cell_type": "markdown",
   "id": "2f03a669-f03c-4c91-b8a2-8744cb4db8dd",
   "metadata": {},
   "source": [
    "### Define Target phase and CMAES vector size"
   ]
  },
  {
   "cell_type": "code",
   "execution_count": 5,
   "id": "d2fe360f-824e-4350-96fe-344866db97d0",
   "metadata": {},
   "outputs": [
    {
     "name": "stdout",
     "output_type": "stream",
     "text": [
      "Phase CMAES has originally 100.0 steps (f=0.5 Hz)\n",
      "\t-> with saturation factor of 0.5, 50 signals are created.\n"
     ]
    }
   ],
   "source": [
    "phaseName = \"CMAES\"\n",
    "saturation = 1/2 #every second timestep\n",
    "\n",
    "phase = None\n",
    "for p in exp.phases:\n",
    "    if(p[\"name\"] == phaseName):\n",
    "        steps = p[\"duration\"]/exp.stepSize\n",
    "        phase = p\n",
    "\n",
    "len_x = int(steps*saturation)\n",
    "        \n",
    "print(f'Phase {phaseName} has originally {steps} steps (f={exp.frequency} Hz)\\n\\t-> with saturation factor of {saturation}, {len_x} signals are created.')\n",
    "        \n"
   ]
  },
  {
   "cell_type": "markdown",
   "id": "d2abb976-088f-4194-a3b0-feaf53be3c6a",
   "metadata": {},
   "source": [
    "### Get X0 (initial muscle values)"
   ]
  },
  {
   "cell_type": "code",
   "execution_count": 6,
   "id": "1029ea84-1efd-4ccf-a4fe-0c3d2a88f061",
   "metadata": {},
   "outputs": [
    {
     "name": "stdout",
     "output_type": "stream",
     "text": [
      "Original x0 length: 100\n",
      "Interpolated (target) x0 length: 50\n"
     ]
    }
   ],
   "source": [
    "#get X0\n",
    "import pickle\n",
    "import numpy as np\n",
    "\n",
    "if(exp.muscleValuesGTsource == \"plain\"):\n",
    "    v = 0.5\n",
    "    x0 = [(v,v, v,v, v,v,v,v)]*len_x\n",
    "\n",
    "elif(exp.muscleValuesGTsource == \"FFT\" or exp.muscleValuesGTsource == \"CMA\"):\n",
    "    x0 = exp.getMuscleGT(phase,scenarioName=None, f=None, X=None, Y=None, t_start=None, t_end=None)\n",
    "    \n",
    "    if(len(x0) != len_x):\n",
    "        print(\"Original x0 length: \"+str(len(x0)))\n",
    "        x0_trans = np.array(x0).transpose()\n",
    "        x0_trans = [\n",
    "            exp.interp_scipy( x0_column, np.linspace(phase[\"t_start\"],phase[\"t_start\"]+phase[\"duration\"],len_x) )\n",
    "            for x0_column in x0_trans]\n",
    "        \n",
    "        x0 = np.array(x0_trans).transpose()\n",
    "        \n",
    "        print(\"Interpolated (target) x0 length: \"+str(len(x0)))\n",
    "\n",
    "else:\n",
    "    raise RuntimeError(f\"Unknown muscle innervation gt source: \\\"{muscleValuesGTsource}\\\"\")\n",
    "    "
   ]
  },
  {
   "cell_type": "markdown",
   "id": "4f6db64c-e227-4abc-9d4c-7965481bb44b",
   "metadata": {},
   "source": [
    "### Create/Get CMAES runner"
   ]
  },
  {
   "cell_type": "code",
   "execution_count": 7,
   "id": "850b20e8-4df8-45a0-a063-f8cf55ebd122",
   "metadata": {},
   "outputs": [
    {
     "name": "stdout",
     "output_type": "stream",
     "text": [
      "INSTANCES MAX 0 = 1\n",
      "CMAES file \"cmaes_mixed_0.5_v1_online_2.pkl\" exists. Loading and continuing where we stopped last time...\n",
      "Continuing after iteration 9\n"
     ]
    }
   ],
   "source": [
    "from package.src.NRP_VC_addon.CMAES_Runner import CMAES_Runner\n",
    "\n",
    "\n",
    "print(f\"INSTANCES MAX 0 = {maxInstances}\")\n",
    "\n",
    "cmaes = CMAES_Runner(\n",
    "    templateExperiment = exp, #Experiment specific stuff\n",
    "    templateSimulator = simulator, #Simulator specific stuff\n",
    "    #CMAES specific stuff\n",
    "    CMAESfilePath=\"cmaes_mixed_0.5_v1_online_2.pkl\",\n",
    "    #CMAESfilePath=\"cmaes_0.5.pkl\",\n",
    "    maxIteration = 500,\n",
    "    maxInstances = maxInstances,\n",
    "    phaseName = phaseName,\n",
    "    len_x = len_x,\n",
    "    x0 = x0\n",
    ")\n",
    "   "
   ]
  },
  {
   "cell_type": "code",
   "execution_count": 8,
   "id": "9cea31ae-b976-413d-b47d-cdfcbcbbc701",
   "metadata": {
    "scrolled": true
   },
   "outputs": [
    {
     "name": "stdout",
     "output_type": "stream",
     "text": [
      "Running optimizer...\n",
      "[0:00:00.000009] ITERATION: Processing iteration 9\n",
      "INSTANCES MAX = 1\n",
      "[0:00:00.001866] ITERATION - CHUNK: Processing chunk nr 1/21 (size=1)\n",
      "[0:00:00.001884] GENERATE EXPERIMENTS\n",
      "[0:00:00.250849] SIMULATE EXPERIMENTS]\n",
      "[SIMULATION] Running 1 experimetns in paralell...\n",
      "STEP 0: Setting experiment files...\n",
      "Replacing \"robobrain_mouse_with_joystick/model.sdf\" with 460 lines from the respective template.\n"
     ]
    },
    {
     "ename": "Exception",
     "evalue": "Error when setting file: 477. Error: <Response [477]>",
     "output_type": "error",
     "traceback": [
      "\u001b[0;31m--------------------------------------\u001b[0m",
      "\u001b[0;31mException\u001b[0mTraceback (most recent call last)",
      "\u001b[0;32m<ipython-input-8-def9d2657c61>\u001b[0m in \u001b[0;36m<module>\u001b[0;34m\u001b[0m\n\u001b[0;32m----> 1\u001b[0;31m \u001b[0mcmaes\u001b[0m\u001b[0;34m.\u001b[0m\u001b[0mrun\u001b[0m\u001b[0;34m(\u001b[0m\u001b[0;34m)\u001b[0m\u001b[0;34m\u001b[0m\u001b[0;34m\u001b[0m\u001b[0m\n\u001b[0m",
      "\u001b[0;32m~/Schreibtisch/TUM/Master/4.Semester/thesis/VC/package/src/NRP_VC_addon/CMAES_Runner.py\u001b[0m in \u001b[0;36mrun\u001b[0;34m(self)\u001b[0m\n\u001b[1;32m    270\u001b[0m                     f'[{datetime.timedelta(seconds=time.time()-tstart)}] SIMULATE EXPERIMENTS]')\n\u001b[1;32m    271\u001b[0m \u001b[0;34m\u001b[0m\u001b[0m\n\u001b[0;32m--> 272\u001b[0;31m                 \u001b[0moutputs\u001b[0m \u001b[0;34m=\u001b[0m \u001b[0mself\u001b[0m\u001b[0;34m.\u001b[0m\u001b[0m__simulateExperiments\u001b[0m\u001b[0;34m(\u001b[0m\u001b[0mexps\u001b[0m\u001b[0;34m)\u001b[0m\u001b[0;34m\u001b[0m\u001b[0;34m\u001b[0m\u001b[0m\n\u001b[0m\u001b[1;32m    273\u001b[0m \u001b[0;34m\u001b[0m\u001b[0m\n\u001b[1;32m    274\u001b[0m                 \u001b[0;31m# extract outputs and update object\u001b[0m\u001b[0;34m\u001b[0m\u001b[0;34m\u001b[0m\u001b[0m\n",
      "\u001b[0;32m~/Schreibtisch/TUM/Master/4.Semester/thesis/VC/package/src/NRP_VC_addon/CMAES_Runner.py\u001b[0m in \u001b[0;36m__simulateExperiments\u001b[0;34m(self, experiments)\u001b[0m\n\u001b[1;32m    187\u001b[0m             \u001b[0mprint\u001b[0m\u001b[0;34m(\u001b[0m\u001b[0;34mf'[SIMULATION] Running {len(experiments)} experimetns in paralell...'\u001b[0m\u001b[0;34m)\u001b[0m\u001b[0;34m\u001b[0m\u001b[0;34m\u001b[0m\u001b[0m\n\u001b[1;32m    188\u001b[0m             \u001b[0mself\u001b[0m\u001b[0;34m.\u001b[0m\u001b[0mtemplateSimulator\u001b[0m\u001b[0;34m.\u001b[0m\u001b[0msetExperiments\u001b[0m\u001b[0;34m(\u001b[0m\u001b[0mexperiments\u001b[0m\u001b[0;34m)\u001b[0m\u001b[0;34m\u001b[0m\u001b[0;34m\u001b[0m\u001b[0m\n\u001b[0;32m--> 189\u001b[0;31m             \u001b[0mself\u001b[0m\u001b[0;34m.\u001b[0m\u001b[0mtemplateSimulator\u001b[0m\u001b[0;34m.\u001b[0m\u001b[0mrun\u001b[0m\u001b[0;34m(\u001b[0m\u001b[0;34m)\u001b[0m\u001b[0;34m\u001b[0m\u001b[0;34m\u001b[0m\u001b[0m\n\u001b[0m\u001b[1;32m    190\u001b[0m \u001b[0;34m\u001b[0m\u001b[0m\n\u001b[1;32m    191\u001b[0m         \u001b[0;32melif\u001b[0m \u001b[0;34m(\u001b[0m\u001b[0misinstance\u001b[0m\u001b[0;34m(\u001b[0m\u001b[0mself\u001b[0m\u001b[0;34m.\u001b[0m\u001b[0mtemplateSimulator\u001b[0m\u001b[0;34m,\u001b[0m \u001b[0mNRP_Simulator_Local\u001b[0m\u001b[0;34m)\u001b[0m\u001b[0;34m)\u001b[0m\u001b[0;34m:\u001b[0m  \u001b[0;31m# if its local\u001b[0m\u001b[0;34m\u001b[0m\u001b[0;34m\u001b[0m\u001b[0m\n",
      "\u001b[0;32m~/Schreibtisch/TUM/Master/4.Semester/thesis/VC/package/src/NRP_VC_addon/NRP_Simulator.py\u001b[0m in \u001b[0;36mrun\u001b[0;34m(self)\u001b[0m\n\u001b[1;32m    617\u001b[0m         \u001b[0mprint\u001b[0m\u001b[0;34m(\u001b[0m\u001b[0;34mf'STEP 0: Setting experiment files...'\u001b[0m\u001b[0;34m)\u001b[0m\u001b[0;34m\u001b[0m\u001b[0;34m\u001b[0m\u001b[0m\n\u001b[1;32m    618\u001b[0m         \u001b[0mt_start\u001b[0m \u001b[0;34m=\u001b[0m \u001b[0mtime\u001b[0m\u001b[0;34m.\u001b[0m\u001b[0mtime\u001b[0m\u001b[0;34m(\u001b[0m\u001b[0;34m)\u001b[0m\u001b[0;34m\u001b[0m\u001b[0;34m\u001b[0m\u001b[0m\n\u001b[0;32m--> 619\u001b[0;31m         \u001b[0mself\u001b[0m\u001b[0;34m.\u001b[0m\u001b[0msetFiles\u001b[0m\u001b[0;34m(\u001b[0m\u001b[0;34m)\u001b[0m\u001b[0;34m\u001b[0m\u001b[0;34m\u001b[0m\u001b[0m\n\u001b[0m\u001b[1;32m    620\u001b[0m         \u001b[0mstep_time\u001b[0m \u001b[0;34m=\u001b[0m \u001b[0mtime\u001b[0m\u001b[0;34m.\u001b[0m\u001b[0mtime\u001b[0m\u001b[0;34m(\u001b[0m\u001b[0;34m)\u001b[0m\u001b[0;34m-\u001b[0m\u001b[0mt_start\u001b[0m\u001b[0;34m\u001b[0m\u001b[0;34m\u001b[0m\u001b[0m\n\u001b[1;32m    621\u001b[0m         \u001b[0mprint\u001b[0m\u001b[0;34m(\u001b[0m\u001b[0;34mf\"Setting experiment files took {step_time:.02f}s\"\u001b[0m\u001b[0;34m)\u001b[0m\u001b[0;34m\u001b[0m\u001b[0;34m\u001b[0m\u001b[0m\n",
      "\u001b[0;32m~/Schreibtisch/TUM/Master/4.Semester/thesis/VC/package/src/NRP_VC_addon/NRP_Simulator.py\u001b[0m in \u001b[0;36msetFiles\u001b[0;34m(self)\u001b[0m\n\u001b[1;32m    404\u001b[0m \u001b[0;34m\u001b[0m\u001b[0m\n\u001b[1;32m    405\u001b[0m             \u001b[0;31m# HINT: If this call throws a HTTP 403 Forbidden, you might have used the wrong exp_id!\u001b[0m\u001b[0;34m\u001b[0m\u001b[0;34m\u001b[0m\u001b[0m\n\u001b[0;32m--> 406\u001b[0;31m             self.vc_instance.set_experiment_file(\n\u001b[0m\u001b[1;32m    407\u001b[0m                 exp_id=self.experiments[0].exp_id, file_name=filePath, file_content=content)\n\u001b[1;32m    408\u001b[0m \u001b[0;34m\u001b[0m\u001b[0m\n",
      "\u001b[0;32m~/.local/lib/python3.10/site-packages/pynrp/virtual_coach.py\u001b[0m in \u001b[0;36mset_experiment_file\u001b[0;34m(self, exp_id, file_name, file_content)\u001b[0m\n\u001b[1;32m    668\u001b[0m \u001b[0;34m\u001b[0m\u001b[0m\n\u001b[1;32m    669\u001b[0m         \u001b[0;32mif\u001b[0m \u001b[0mresponse\u001b[0m\u001b[0;34m.\u001b[0m\u001b[0mstatus_code\u001b[0m \u001b[0;34m!=\u001b[0m \u001b[0mhttp\u001b[0m\u001b[0;34m.\u001b[0m\u001b[0mclient\u001b[0m\u001b[0;34m.\u001b[0m\u001b[0mOK\u001b[0m\u001b[0;34m:\u001b[0m\u001b[0;34m\u001b[0m\u001b[0;34m\u001b[0m\u001b[0m\n\u001b[0;32m--> 670\u001b[0;31m             raise Exception('Error when setting file: %d. Error: %s'\n\u001b[0m\u001b[1;32m    671\u001b[0m                             % (response.status_code, response))\n\u001b[1;32m    672\u001b[0m \u001b[0;34m\u001b[0m\u001b[0m\n",
      "\u001b[0;31mException\u001b[0m: Error when setting file: 477. Error: <Response [477]>"
     ]
    }
   ],
   "source": [
    "cmaes.run()"
   ]
  },
  {
   "cell_type": "code",
   "execution_count": null,
   "id": "438f880e",
   "metadata": {},
   "outputs": [],
   "source": []
  },
  {
   "cell_type": "code",
   "execution_count": null,
   "id": "5ca20ba2-2e00-4bcc-a550-5d6745453881",
   "metadata": {},
   "outputs": [],
   "source": [
    "print(\"done.\")"
   ]
  },
  {
   "cell_type": "markdown",
   "id": "31ba2202-1d30-4d9e-9bb6-fc25f023a588",
   "metadata": {},
   "source": [
    "For visualizations, take alook at the CMAES_Visualization Notebook"
   ]
  },
  {
   "cell_type": "code",
   "execution_count": null,
   "id": "1db83e76-a87d-4a21-9a05-d10604c7240d",
   "metadata": {},
   "outputs": [],
   "source": []
  },
  {
   "cell_type": "code",
   "execution_count": null,
   "id": "3ff112e3-2786-408c-b6d2-3d3d75141505",
   "metadata": {},
   "outputs": [],
   "source": []
  },
  {
   "cell_type": "code",
   "execution_count": null,
   "id": "f7d65a9d-24dc-4e3e-98c3-db14b3c538b7",
   "metadata": {},
   "outputs": [],
   "source": []
  },
  {
   "cell_type": "code",
   "execution_count": null,
   "id": "ef1e25ad-90bc-4215-ad9c-5c238a2532fb",
   "metadata": {},
   "outputs": [],
   "source": []
  },
  {
   "cell_type": "code",
   "execution_count": null,
   "id": "9a6fa41b-cc9a-4aa7-a89b-3cd9ab5dc72c",
   "metadata": {},
   "outputs": [],
   "source": []
  }
 ],
 "metadata": {
  "kernelspec": {
   "display_name": "Python 3",
   "language": "python",
   "name": "python3"
  },
  "language_info": {
   "codemirror_mode": {
    "name": "ipython",
    "version": 3
   },
   "file_extension": ".py",
   "mimetype": "text/x-python",
   "name": "python",
   "nbconvert_exporter": "python",
   "pygments_lexer": "ipython3",
   "version": "3.10.6"
  }
 },
 "nbformat": 4,
 "nbformat_minor": 5
}
